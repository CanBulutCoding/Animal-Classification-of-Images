{
 "cells": [
  {
   "cell_type": "code",
   "execution_count": 1,
   "id": "653f74d4-e110-4042-a20d-753f3ce141be",
   "metadata": {
    "tags": []
   },
   "outputs": [],
   "source": [
    "# Import packages required for neural network training & testing\n",
    "\n",
    "import warnings\n",
    "\n",
    "import numpy as np\n",
    "\n",
    "from code.dataloaders import AnimalsDataloader\n",
    "from code.neural_networks import MultiLayerNeuralNetwork\n",
    "from code.layers import FullyConnectedLayer, SigmoidLayer\n",
    "from code.training import train\n",
    "from code.testing import test\n",
    "from code.losses import nll_loss, nll_loss_derivative\n",
    "\n",
    "\n",
    "warnings.filterwarnings(\"ignore\")"
   ]
  },
  {
   "cell_type": "code",
   "execution_count": 2,
   "id": "b839b567-35f6-4dd7-8aa6-10607404dea0",
   "metadata": {
    "tags": []
   },
   "outputs": [],
   "source": [
    "# Load the dataset for training & testing\n",
    "\n",
    "animals_train_data = AnimalsDataloader(data_dir=\"data/train\", num_class=10)\n",
    "animals_test_data = AnimalsDataloader(data_dir=\"data/test\", num_class=10)"
   ]
  },
  {
   "cell_type": "code",
   "execution_count": 3,
   "id": "0b899047-377d-4e0e-adb5-bb81ec0c70c0",
   "metadata": {
    "tags": []
   },
   "outputs": [],
   "source": [
    "# Build a single hidden layer Neural Network\n",
    "\n",
    "animals_model = MultiLayerNeuralNetwork()\n",
    "\n",
    "animals_model.add_layer(FullyConnectedLayer(input_size=65536, output_size=10))\n",
    "animals_model.add_layer(SigmoidLayer())"
   ]
  },
  {
   "cell_type": "code",
   "execution_count": 15,
   "id": "8c574942-144e-4ada-aeec-e4557e87ad03",
   "metadata": {
    "tags": []
   },
   "outputs": [
    {
     "name": "stdout",
     "output_type": "stream",
     "text": [
      "\n",
      "Starting Epoch 0:\n",
      "The average loss for the epoch is:  61.36704193929135\n",
      "\n",
      "Starting Epoch 1:\n",
      "The average loss for the epoch is:  59.050520353149345\n",
      "\n",
      "Starting Epoch 2:\n",
      "The average loss for the epoch is:  59.067360277329435\n",
      "\n",
      "Starting Epoch 3:\n",
      "The average loss for the epoch is:  59.13477947425973\n",
      "\n",
      "Starting Epoch 4:\n",
      "The average loss for the epoch is:  58.25083370596282\n",
      "\n",
      "Starting Epoch 5:\n",
      "The average loss for the epoch is:  58.246220278800834\n",
      "\n",
      "Starting Epoch 6:\n",
      "The average loss for the epoch is:  58.513942155299155\n",
      "\n",
      "Starting Epoch 7:\n",
      "The average loss for the epoch is:  57.97770959152868\n",
      "\n",
      "Starting Epoch 8:\n",
      "The average loss for the epoch is:  58.50237480964751\n",
      "\n",
      "Starting Epoch 9:\n",
      "The average loss for the epoch is:  58.412078758579334\n"
     ]
    }
   ],
   "source": [
    "# Training loop\n",
    "\n",
    "losses = train(\n",
    "    model=animals_model,\n",
    "    data=animals_train_data,\n",
    "    batch_size=4,\n",
    "    loss_fn=nll_loss,\n",
    "    d_loss_fn=nll_loss_derivative,\n",
    "    num_epochs=10,\n",
    "    lr=0.001,\n",
    ")"
   ]
  },
  {
   "cell_type": "code",
   "execution_count": 21,
   "id": "f6580ea8-2203-4d76-828a-e7ec5fa2493a",
   "metadata": {
    "tags": []
   },
   "outputs": [],
   "source": [
    "# Save the model\n",
    "\n",
    "animals_model.save(\"models/latest\")"
   ]
  },
  {
   "cell_type": "code",
   "execution_count": null,
   "id": "5192ca53-688a-4cc0-8439-9a9ec0ff1dcd",
   "metadata": {
    "tags": []
   },
   "outputs": [],
   "source": [
    "# Load existing model\n",
    "\n",
    "animals_model.load(\"models/latest\")"
   ]
  },
  {
   "cell_type": "code",
   "execution_count": 9,
   "id": "c567872d-2406-4f9d-a9a7-9980c51e8a00",
   "metadata": {
    "tags": []
   },
   "outputs": [],
   "source": [
    "loss_values = []"
   ]
  },
  {
   "cell_type": "code",
   "execution_count": 19,
   "id": "460a3b24-1d82-498f-bcec-1da684945f84",
   "metadata": {
    "tags": []
   },
   "outputs": [
    {
     "data": {
      "text/plain": [
       "[184.0746291329803,\n",
       " 151.33904528954417,\n",
       " 126.24971215127134,\n",
       " 112.26297160936674,\n",
       " 104.40603262058929,\n",
       " 98.52004515154026,\n",
       " 94.26244620299299,\n",
       " 89.09983387559465,\n",
       " 85.48602144944552,\n",
       " 82.48097844920247,\n",
       " 81.96649220675532,\n",
       " 79.15448264194221,\n",
       " 76.50273139884389,\n",
       " 73.2945738680709,\n",
       " 71.80301292093274,\n",
       " 69.9527591954894,\n",
       " 68.35565343717323,\n",
       " 66.31344042119214,\n",
       " 64.48548099524308,\n",
       " 63.50485031878836,\n",
       " 61.36704193929135,\n",
       " 59.050520353149345,\n",
       " 59.067360277329435,\n",
       " 59.13477947425973,\n",
       " 58.25083370596282,\n",
       " 58.246220278800834,\n",
       " 58.513942155299155,\n",
       " 57.97770959152868,\n",
       " 58.50237480964751,\n",
       " 58.412078758579334]"
      ]
     },
     "execution_count": 19,
     "metadata": {},
     "output_type": "execute_result"
    }
   ],
   "source": [
    "len(loss_values)\n",
    "loss_values"
   ]
  },
  {
   "cell_type": "code",
   "execution_count": 18,
   "id": "b3f7d161-43f6-4bfd-8828-3036bed01f53",
   "metadata": {
    "tags": []
   },
   "outputs": [],
   "source": [
    "loss_values.extend(losses)"
   ]
  },
  {
   "cell_type": "code",
   "execution_count": 20,
   "id": "5017b002-b070-4d61-94ff-e954ae24d1b5",
   "metadata": {
    "tags": []
   },
   "outputs": [
    {
     "data": {
      "text/plain": [
       "[<matplotlib.lines.Line2D at 0x13476d300>]"
      ]
     },
     "execution_count": 20,
     "metadata": {},
     "output_type": "execute_result"
    },
    {
     "data": {
      "image/png": "[encoded data removed]",
      "text/plain": [
       "<Figure size 640x480 with 1 Axes>"
      ]
     },
     "metadata": {},
     "output_type": "display_data"
    }
   ],
   "source": [
    "# Plot the loss\n",
    "\n",
    "import matplotlib.pyplot as plt\n",
    "\n",
    "plt.plot(loss_values)"
   ]
  },
  {
   "cell_type": "code",
   "execution_count": 25,
   "id": "75d3b3c5-4c67-42cf-85b0-2e29a2fde6fd",
   "metadata": {
    "tags": []
   },
   "outputs": [
    {
     "name": "stderr",
     "output_type": "stream",
     "text": [
      "libpng warning: iCCP: known incorrect sRGB profile\n"
     ]
    },
    {
     "name": "stdout",
     "output_type": "stream",
     "text": [
      "The Accuracy of the model is:  17.68759571209801\n"
     ]
    }
   ],
   "source": [
    "# Testing\n",
    "\n",
    "test(animals_model, data=animals_test_data)"
   ]
  }
 ],
 "metadata": {
  "kernelspec": {
   "display_name": "Python 3 (ipykernel)",
   "language": "python",
   "name": "python3"
  },
  "language_info": {
   "codemirror_mode": {
    "name": "ipython",
    "version": 3
   },
   "file_extension": ".py",
   "mimetype": "text/x-python",
   "name": "python",
   "nbconvert_exporter": "python",
   "pygments_lexer": "ipython3",
   "version": "3.10.3"
  }
 },
 "nbformat": 4,
 "nbformat_minor": 5
}
