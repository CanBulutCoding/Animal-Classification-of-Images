{
  "cells": [
    {
      "cell_type": "markdown",
      "metadata": {
        "id": "vJzRezHyVKwN"
      },
      "source": [
        "# Fine tuning resnet"
      ]
    },
    {
      "cell_type": "code",
      "execution_count": 16,
      "metadata": {
        "id": "VuGjYjqnJ3xX"
      },
      "outputs": [],
      "source": [
        "device = \"cuda\""
      ]
    },
    {
      "cell_type": "code",
      "execution_count": 57,
      "metadata": {
        "id": "MuYjeTpPe_yV"
      },
      "outputs": [],
      "source": [
        "import csv\n",
        "\n",
        "import cv2\n",
        "import numpy as np\n",
        "import torch\n",
        "\n",
        "\n",
        "class AnimalsDataset(torch.utils.data.Dataset):\n",
        "    def __init__(self, root, transforms):\n",
        "        self.root = root\n",
        "        self.transforms = transforms\n",
        "        \n",
        "        samples = []\n",
        "        with open(f\"{root}/dataset.csv\", \"r\") as f:\n",
        "            reader = csv.DictReader(f)\n",
        "            for line in reader:\n",
        "                samples.append(line)\n",
        "        self.samples = samples\n",
        "\n",
        "    def __getitem__(self, idx):\n",
        "        sample = self.samples[idx]\n",
        "\n",
        "        full_path = f\"{self.root}/{sample['image_path']}\"\n",
        "        image = cv2.imread(full_path)\n",
        "        image = image.transpose(2, 0, 1)\n",
        "        image = torch.as_tensor(image)\n",
        "\n",
        "        class_label = int(sample[\"class_label\"])\n",
        "        label = np.zeros((10,))\n",
        "        label[class_label] = 1\n",
        "        label = torch.as_tensor(label)\n",
        "\n",
        "        if self.transforms:\n",
        "            image = self.transforms(image)\n",
        "\n",
        "        return image, label\n",
        "\n",
        "    def __len__(self):\n",
        "        return len(self.samples)"
      ]
    },
    {
      "cell_type": "code",
      "execution_count": 62,
      "metadata": {
        "id": "vozDkcimg0wI"
      },
      "outputs": [],
      "source": [
        "from torchvision.models import resnet50, ResNet50_Weights\n",
        "\n",
        "model = resnet50(weights=ResNet50_Weights.IMAGENET1K_V2)\n",
        "transforms = ResNet50_Weights.IMAGENET1K_V2.transforms()\n",
        "\n",
        "# uncomment these lines to freeze the pretrained parameters\n",
        "# for param in model.parameters():\n",
        "#     param.requires_grad = False\n",
        "\n",
        "# update the last layer to output 10 classes\n",
        "model.fc = torch.nn.Linear(in_features=2048, out_features=10, bias=True)\n",
        "model = model.to(device)"
      ]
    },
    {
      "cell_type": "code",
      "execution_count": 39,
      "metadata": {
        "colab": {
          "base_uri": "https://localhost:8080/"
        },
        "id": "rmFogES4inFG",
        "outputId": "abdf3fdb-5d58-40e5-a953-6ad831395706"
      },
      "outputs": [
        {
          "data": {
            "text/plain": [
              "(tensor([[[ 1.9578,  2.0263,  1.7180,  ..., -1.1075, -1.5870, -0.7137],\n",
              "          [ 2.0948,  1.9920,  0.7933,  ..., -0.9363, -1.3644, -0.8849],\n",
              "          [ 2.0092,  1.1872, -0.2342,  ..., -1.0048, -1.6727, -1.5357],\n",
              "          ...,\n",
              "          [ 1.6838,  1.3070,  0.8789,  ...,  2.0948,  1.7865,  0.8618],\n",
              "          [ 1.6324,  0.8447, -0.0458,  ...,  1.6838,  1.5125,  0.7591],\n",
              "          [ 1.7180,  0.4851, -0.7479,  ...,  1.3242,  1.7352,  0.8447]],\n",
              " \n",
              "         [[ 2.2710,  2.3936,  2.1485,  ..., -0.1800, -0.4951,  0.5553],\n",
              "          [ 2.4111,  2.3585,  1.1856,  ...,  0.1527, -0.0749,  0.5903],\n",
              "          [ 2.3410,  1.5357,  0.1176,  ...,  0.2052, -0.2500,  0.0476],\n",
              "          ...,\n",
              "          [ 2.0084,  1.5707,  1.1155,  ...,  2.2885,  1.9734,  1.0280],\n",
              "          [ 2.0084,  1.1331,  0.2227,  ...,  1.8508,  1.6758,  0.9230],\n",
              "          [ 2.1485,  0.8529, -0.4251,  ...,  1.5182,  1.9559,  1.0455]],\n",
              " \n",
              "         [[ 2.5180,  2.6226,  2.3960,  ...,  0.2871, -0.1835,  0.6705],\n",
              "          [ 2.6226,  2.5703,  1.4548,  ...,  0.5659,  0.1825,  0.6356],\n",
              "          [ 2.5877,  1.8208,  0.4439,  ...,  0.6008, -0.0092,  0.0779],\n",
              "          ...,\n",
              "          [ 2.4657,  2.1520,  1.6988,  ...,  2.5703,  2.2740,  1.4374],\n",
              "          [ 2.5006,  1.7337,  0.8448,  ...,  2.2391,  2.0823,  1.3502],\n",
              "          [ 2.5877,  1.4374,  0.1825,  ...,  1.9080,  2.3611,  1.4722]]]),\n",
              " tensor([1., 0., 0., 0., 0., 0., 0., 0., 0., 0.], dtype=torch.float64))"
            ]
          },
          "execution_count": 39,
          "metadata": {},
          "output_type": "execute_result"
        }
      ],
      "source": [
        "dataset = AnimalsDataset(\"data/train\", transforms)\n",
        "dataset[0]"
      ]
    },
    {
      "cell_type": "code",
      "execution_count": 48,
      "metadata": {
        "id": "IoFKVmPznn2b"
      },
      "outputs": [],
      "source": [
        "loss_fn = torch.nn.CrossEntropyLoss()\n",
        "optimizer = torch.optim.Adam(params=model.parameters(), lr=0.0001)\n",
        "\n",
        "# use the below line to train only the last layer\n",
        "# optimizer = torch.optim.Adam(params=model.fc.parameters())"
      ]
    },
    {
      "cell_type": "code",
      "execution_count": 41,
      "metadata": {
        "colab": {
          "base_uri": "https://localhost:8080/"
        },
        "id": "G5GZBghHlE1u",
        "outputId": "8ff1b3d6-3a70-4664-89e3-cd6ebbca3521"
      },
      "outputs": [
        {
          "name": "stdout",
          "output_type": "stream",
          "text": [
            "tensor([[ 0.0335,  0.0684, -0.0370, -0.0123, -0.0306, -0.0408,  0.0202,  0.0228,\n",
            "          0.0637, -0.0151],\n",
            "        [ 0.1242, -0.0175, -0.0690, -0.0635,  0.1255, -0.0322,  0.0118, -0.0193,\n",
            "         -0.0005, -0.0508]], device='cuda:0', grad_fn=<AddmmBackward0>)\n",
            "tensor(2.2529, device='cuda:0', dtype=torch.float64, grad_fn=<DivBackward1>)\n"
          ]
        }
      ],
      "source": [
        "data_loader = torch.utils.data.DataLoader(dataset, batch_size=2, shuffle=True, num_workers=2)\n",
        "\n",
        "# For Training\n",
        "image, target = next(iter(data_loader))\n",
        "image, target = image.to(device), target.to(device)\n",
        "\n",
        "output = model(image)   # Returns losses and detections\n",
        "print(output)\n",
        "\n",
        "loss = loss_fn(output, target)\n",
        "print(loss)"
      ]
    },
    {
      "cell_type": "code",
      "execution_count": 42,
      "metadata": {
        "id": "C33vLWS_myND"
      },
      "outputs": [],
      "source": [
        "def train_one_epoch(model, criterion, optimizer, data_loader, epoch):\n",
        "\n",
        "    header = f\"Epoch: [{epoch}]\"\n",
        "    losses = []\n",
        "    for i, (image, target) in enumerate(data_loader):\n",
        "        image, target = image.to(device), target.to(device)\n",
        "\n",
        "        output = model(image)\n",
        "        loss = criterion(output, target)\n",
        "\n",
        "        optimizer.zero_grad()\n",
        "\n",
        "        loss.backward()\n",
        "        optimizer.step()\n",
        "\n",
        "        losses.append(loss.item())\n",
        "\n",
        "    print(\"The average loss for the epoch is: \", sum(losses) / len(losses))"
      ]
    },
    {
      "cell_type": "code",
      "execution_count": null,
      "metadata": {
        "colab": {
          "base_uri": "https://localhost:8080/"
        },
        "id": "c840PTBHnbRe",
        "outputId": "0d0e60fc-633b-4260-df4f-81da4804dd4b"
      },
      "outputs": [
        {
          "name": "stdout",
          "output_type": "stream",
          "text": [
            "The average loss for the epoch is:  2.224212915325447\n",
            "The average loss for the epoch is:  2.2198730120965204\n",
            "The average loss for the epoch is:  2.2188444037606305\n"
          ]
        }
      ],
      "source": [
        "for epoch in range(5):\n",
        "\n",
        "    train_one_epoch(model, loss_fn, optimizer, data_loader, epoch)\n"
      ]
    },
    {
      "cell_type": "code",
      "execution_count": 44,
      "metadata": {
        "id": "5_c5uwvsKj9v"
      },
      "outputs": [],
      "source": [
        "from torch.utils.data import DataLoader\n",
        "\n",
        "test_dataset = AnimalsDataset(\"data/test\", transforms)\n",
        "test_data_loader = DataLoader(test_dataset, batch_size=1, shuffle=False, num_workers=2)"
      ]
    },
    {
      "cell_type": "code",
      "execution_count": 45,
      "metadata": {
        "colab": {
          "base_uri": "https://localhost:8080/"
        },
        "id": "vlGtFn4uJeCk",
        "outputId": "3d12aaae-15eb-47a8-a268-e2595b3fb6c0"
      },
      "outputs": [
        {
          "name": "stdout",
          "output_type": "stream",
          "text": [
            "The Accuracy of the model is: 18.61%\n"
          ]
        }
      ],
      "source": [
        "def test(model, data_loader):\n",
        "    correct = 0\n",
        "    for i, (image, target) in enumerate(data_loader):\n",
        "        image, target = image.to(device), target.to(device)\n",
        "\n",
        "        output = model(image)\n",
        "\n",
        "        pred = torch.argmax(output)\n",
        "        true = torch.argmax(target)\n",
        "\n",
        "        if pred == true:\n",
        "            correct += 1\n",
        "    \n",
        "    acc = round(correct / len(data_loader) * 100, 2)\n",
        "    print(f\"The Accuracy of the model is: {acc}%\")\n",
        "\n",
        "test(model, test_data_loader)"
      ]
    },
    {
      "cell_type": "markdown",
      "metadata": {
        "id": "DUQd92m3VPVI"
      },
      "source": [
        "# K-Means clustering"
      ]
    },
    {
      "cell_type": "code",
      "execution_count": null,
      "metadata": {
        "id": "jdyEQkfxYKf5"
      },
      "outputs": [],
      "source": [
        "activation = {}\n",
        "def get_activation(name):\n",
        "    def hook(model, input, output):\n",
        "        activation[name] = output.detach()\n",
        "    return hook\n",
        "\n",
        "model.fc.register_forward_hook(get_activation(\"fc\"))"
      ]
    },
    {
      "cell_type": "code",
      "execution_count": 75,
      "metadata": {
        "id": "uuU8cUAYWrVs"
      },
      "outputs": [],
      "source": [
        "model.eval()\n",
        "\n",
        "data = []\n",
        "for idx, (image, target) in enumerate(data_loader):\n",
        "    image, target = image.to(device), target.to(device)\n",
        "\n",
        "    out = model(image)\n",
        "\n",
        "    data.append(activation[\"fc\"].cpu().numpy().squeeze())\n",
        "\n",
        "    if idx == 100:\n",
        "        break"
      ]
    },
    {
      "cell_type": "code",
      "execution_count": 76,
      "metadata": {
        "id": "HVfIt_p1VRwG"
      },
      "outputs": [],
      "source": [
        "from sklearn.cluster import KMeans\n",
        "import numpy as np\n",
        "\n",
        "kmeans = KMeans(n_clusters=10).fit(data)"
      ]
    },
    {
      "cell_type": "code",
      "execution_count": 84,
      "metadata": {
        "id": "v6pypH9FZ3b_"
      },
      "outputs": [],
      "source": [
        "model.eval()\n",
        "\n",
        "x = []\n",
        "y = []\n",
        "c = []\n",
        "for idx, (image, target) in enumerate(test_data_loader):\n",
        "    image, target = image.to(device), target.to(device)\n",
        "\n",
        "    out = model(image)\n",
        "\n",
        "    x_data = activation[\"fc\"].cpu().numpy().astype(\"float\")\n",
        "\n",
        "    cluster = kmeans.predict(x_data)\n",
        "    \n",
        "    x.append(x_data[0][0])\n",
        "    y.append(x_data[0][1])\n",
        "    c.append(cluster)\n",
        "\n",
        "    if idx == 100:\n",
        "        break"
      ]
    },
    {
      "cell_type": "code",
      "execution_count": 85,
      "metadata": {
        "colab": {
          "base_uri": "https://localhost:8080/",
          "height": 285
        },
        "id": "CF4CrXEhbnuK",
        "outputId": "c1e97572-33e8-4e0b-a7fd-772c14927541"
      },
      "outputs": [
        {
          "data": {
            "text/plain": [
              "<matplotlib.collections.PathCollection at 0x7ff76470c130>"
            ]
          },
          "execution_count": 85,
          "metadata": {},
          "output_type": "execute_result"
        },
        {
          "data": {
            "image/png": "[encoded data removed]",
            "text/plain": [
              "<Figure size 432x288 with 1 Axes>"
            ]
          },
          "metadata": {
            "needs_background": "light"
          },
          "output_type": "display_data"
        }
      ],
      "source": [
        "import matplotlib.pyplot as plt\n",
        "\n",
        "\n",
        "plt.scatter(x, y, c=c)"
      ]
    }
  ],
  "metadata": {
    "accelerator": "GPU",
    "colab": {
      "provenance": []
    },
    "gpuClass": "standard",
    "kernelspec": {
      "display_name": "Python 3",
      "name": "python3"
    },
    "language_info": {
      "name": "python"
    }
  },
  "nbformat": 4,
  "nbformat_minor": 0
}
